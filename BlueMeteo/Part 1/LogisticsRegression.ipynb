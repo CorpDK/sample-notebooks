{
 "cells": [
  {
   "cell_type": "markdown",
   "metadata": {},
   "source": [
    "# Logistics Regression - Daily Data"
   ]
  },
  {
   "cell_type": "markdown",
   "metadata": {},
   "source": [
    "### We are going to use Logistics Regression to predict the moon phase\n",
    "#### N.B.: Here Logistics Regression is being Used as Classifier"
   ]
  },
  {
   "cell_type": "code",
   "execution_count": 58,
   "metadata": {},
   "outputs": [],
   "source": [
    "import pandas as pd\n",
    "import numpy as np\n",
    "from sklearn.model_selection import train_test_split \n",
    "from sklearn import metrics \n",
    "import matplotlib.pyplot as plt\n",
    "from datetime import datetime, date, time\n",
    "from sklearn.preprocessing import LabelEncoder\n",
    "from sklearn.linear_model import LogisticRegression"
   ]
  },
  {
   "cell_type": "markdown",
   "metadata": {},
   "source": [
    "#### Now we are going to import our data and convert it required form"
   ]
  },
  {
   "cell_type": "code",
   "execution_count": 60,
   "metadata": {},
   "outputs": [
    {
     "name": "stdout",
     "output_type": "stream",
     "text": [
      "<class 'pandas.core.frame.DataFrame'>\n",
      "RangeIndex: 1871 entries, 0 to 1870\n",
      "Data columns (total 9 columns):\n",
      "date                 1871 non-null object\n",
      "maxtempC             1871 non-null int64\n",
      "mintempC             1871 non-null int64\n",
      "sunrise              1871 non-null object\n",
      "sunset               1871 non-null object\n",
      "moonrise             1871 non-null object\n",
      "moonset              1871 non-null object\n",
      "moon_phase           1871 non-null object\n",
      "moon_illumination    1871 non-null int64\n",
      "dtypes: int64(3), object(6)\n",
      "memory usage: 131.6+ KB\n"
     ]
    }
   ],
   "source": [
    "#data Import\n",
    "location = \"kolkata\"\n",
    "\n",
    "filename_t2 = \"WD_{0}_{1}.csv\"\n",
    "filed = filename_t2.format(location, \"D\")\n",
    "\n",
    "def apply_dt(string):\n",
    "    return datetime.strptime(string, '%Y-%m-%d').date()\n",
    "\n",
    "df = pd.read_csv(filed)\n",
    "\n",
    "def apply_tm(string):\n",
    "    return datetime.strptime(string, '%H:%M:%S').time()\n",
    "\n",
    "df['date'] = df['date'].apply(apply_dt)\n",
    "\n",
    "df['sunrise'] = df['sunrise'].apply(apply_tm)\n",
    "df['sunset'] = df['sunset'].apply(apply_tm)\n",
    "df['moonrise'] = df['moonrise'].apply(apply_tm)\n",
    "df['moonset'] = df['moonset'].apply(apply_tm)\n",
    "\n",
    "del(df['Unnamed: 0'])\n",
    "\n",
    "df.info()"
   ]
  },
  {
   "cell_type": "markdown",
   "metadata": {},
   "source": [
    "#### Now we are going to split our dataset as follows\n",
    "##### x -> features \n",
    "##### y -> target"
   ]
  },
  {
   "cell_type": "code",
   "execution_count": 61,
   "metadata": {},
   "outputs": [
    {
     "name": "stderr",
     "output_type": "stream",
     "text": [
      "C:\\ProgramData\\Anaconda3\\lib\\site-packages\\ipykernel_launcher.py:16: SettingWithCopyWarning: \n",
      "A value is trying to be set on a copy of a slice from a DataFrame.\n",
      "Try using .loc[row_indexer,col_indexer] = value instead\n",
      "\n",
      "See the caveats in the documentation: http://pandas.pydata.org/pandas-docs/stable/indexing.html#indexing-view-versus-copy\n",
      "  app.launch_new_instance()\n",
      "C:\\ProgramData\\Anaconda3\\lib\\site-packages\\ipykernel_launcher.py:17: SettingWithCopyWarning: \n",
      "A value is trying to be set on a copy of a slice from a DataFrame.\n",
      "Try using .loc[row_indexer,col_indexer] = value instead\n",
      "\n",
      "See the caveats in the documentation: http://pandas.pydata.org/pandas-docs/stable/indexing.html#indexing-view-versus-copy\n"
     ]
    }
   ],
   "source": [
    "#y = f(x) ; y,x separator\n",
    "xreq = ['date', 'moon_illumination']\n",
    "\n",
    "x = df[xreq]\n",
    "\n",
    "reqtemp = ['maxtempC','mintempC']\n",
    "reqsun = ['sunrise','sunset']\n",
    "reqmoon = ['moonrise','moonset','moon_illumination']\n",
    "\n",
    "req = ['moon_phase']# + reqsun + reqmoon\n",
    "\n",
    "y = df[req]\n",
    "\n",
    "lbl = LabelEncoder()\n",
    "\n",
    "y['moon_phase'] = lbl.fit_transform(y['moon_phase'])\n",
    "x['date'] = x['date'].apply(date.toordinal)"
   ]
  },
  {
   "cell_type": "markdown",
   "metadata": {},
   "source": [
    "### Now we are going to apply the machine learning to train and predict the data"
   ]
  },
  {
   "cell_type": "code",
   "execution_count": 62,
   "metadata": {},
   "outputs": [
    {
     "name": "stdout",
     "output_type": "stream",
     "text": [
      "Accuracy moon_phase :  0.20284697508896798\n"
     ]
    },
    {
     "name": "stderr",
     "output_type": "stream",
     "text": [
      "C:\\ProgramData\\Anaconda3\\lib\\site-packages\\sklearn\\utils\\validation.py:724: DataConversionWarning: A column-vector y was passed when a 1d array was expected. Please change the shape of y to (n_samples, ), for example using ravel().\n",
      "  y = column_or_1d(y, warn=True)\n"
     ]
    }
   ],
   "source": [
    "#data split, data model implementation\n",
    "x_train, x_test, y_train, y_test = train_test_split(x, y, test_size=0.3, random_state=1)\n",
    "\n",
    "classifier = LogisticRegression(random_state = 0, solver = 'lbfgs', multi_class = 'auto')\n",
    "\n",
    "classifier = classifier.fit(x_train, y_train)\n",
    "\n",
    "y_pred = classifier.predict(x_test)\n",
    "\n",
    "y_pred = pd.DataFrame(y_pred, columns = req, index = x_test.index)\n",
    "\n",
    "for i in req:\n",
    "    print(\"Accuracy \"+i+\" : \",metrics.accuracy_score(y_test[i], y_pred[i]))"
   ]
  },
  {
   "cell_type": "code",
   "execution_count": null,
   "metadata": {},
   "outputs": [],
   "source": []
  }
 ],
 "metadata": {
  "kernelspec": {
   "display_name": "Python 3",
   "language": "python",
   "name": "python3"
  },
  "language_info": {
   "codemirror_mode": {
    "name": "ipython",
    "version": 3
   },
   "file_extension": ".py",
   "mimetype": "text/x-python",
   "name": "python",
   "nbconvert_exporter": "python",
   "pygments_lexer": "ipython3",
   "version": "3.7.3"
  }
 },
 "nbformat": 4,
 "nbformat_minor": 2
}
