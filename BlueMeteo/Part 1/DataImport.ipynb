{
 "cells": [
  {
   "cell_type": "code",
   "execution_count": 1,
   "metadata": {},
   "outputs": [],
   "source": [
    "import requests"
   ]
  },
  {
   "cell_type": "code",
   "execution_count": 1,
   "metadata": {},
   "outputs": [],
   "source": [
    "from datetime import date, timedelta"
   ]
  },
  {
   "cell_type": "code",
   "execution_count": 2,
   "metadata": {},
   "outputs": [],
   "source": [
    "import os"
   ]
  },
  {
   "cell_type": "code",
   "execution_count": 3,
   "metadata": {},
   "outputs": [],
   "source": [
    "#Stored data Ranges as Dates\n",
    "start_date = date(2014,1,1)\n",
    "end_date = date(2019,7,1)"
   ]
  },
  {
   "cell_type": "code",
   "execution_count": 5,
   "metadata": {},
   "outputs": [],
   "source": [
    "def date_cal(start_date, end_date):\n",
    "    dates = []\n",
    "    d1 = start_date\n",
    "    delta = timedelta(days = 1)\n",
    "    t = d1\n",
    "    while d1 < end_date:\n",
    "        d2 = d1 + delta\n",
    "        if d1.month != d2.month:\n",
    "            dates.append((t,d1))\n",
    "            t = d2\n",
    "            #print(d2.isoformat())\n",
    "        d1 = d2\n",
    "    return dates"
   ]
  },
  {
   "cell_type": "code",
   "execution_count": 6,
   "metadata": {},
   "outputs": [
    {
     "data": {
      "text/plain": [
       "66"
      ]
     },
     "execution_count": 6,
     "metadata": {},
     "output_type": "execute_result"
    }
   ],
   "source": [
    "dates = date_cal(start_date,end_date)\n",
    "len(dates)"
   ]
  },
  {
   "cell_type": "code",
   "execution_count": 4,
   "metadata": {},
   "outputs": [
    {
     "name": "stdout",
     "output_type": "stream",
     "text": [
      "Datasets\\kolkata\\Weather_Data\n",
      "\n",
      "https://api.worldweatheronline.com/premium/v1/past-weather.ashx?key=9c8f52132b77473c86c50436190507&q=kolkata&format=csv&date=2014-01-01&enddate=2019-07-01&tp=1\n"
     ]
    }
   ],
   "source": [
    "base_url = \"https://api.worldweatheronline.com/premium/v1/past-weather.ashx\"\n",
    "key = \"9c8f52132b77473c86c50436190507\"\n",
    "query = \"kolkata\"\n",
    "data_format = \"csv\"\n",
    "time_interval = \"1\"\n",
    "path_sep = os.path.sep\n",
    "filename_temp = \"Datasets{1}{0}{1}Weather_Data\"\n",
    "\n",
    "Call_url = \"{0}?key={1}&q={2}&format={3}&date={4}&enddate={5}&tp={6}\"\n",
    "\n",
    "url = Call_url.format(base_url, key, query, data_format, start_date, end_date, time_interval)\n",
    "\n",
    "filename = filename_temp.format(query, path_sep)\n",
    "\n",
    "print(filename)\n",
    "print()\n",
    "print(url)"
   ]
  },
  {
   "cell_type": "code",
   "execution_count": 19,
   "metadata": {
    "scrolled": true
   },
   "outputs": [
    {
     "name": "stdout",
     "output_type": "stream",
     "text": [
      "Path Created\n",
      "Got1\n",
      "Got2\n",
      "Got3\n",
      "Got4\n",
      "Got5\n",
      "Got6\n",
      "Got7\n",
      "Got8\n",
      "Got9\n",
      "Got10\n",
      "Got11\n",
      "Got12\n",
      "Got13\n",
      "Got14\n",
      "Got15\n",
      "Got16\n",
      "Got17\n",
      "Got18\n",
      "Got19\n",
      "Got20\n",
      "Got21\n",
      "Got22\n",
      "Got23\n",
      "Got24\n",
      "Got25\n",
      "Got26\n",
      "Got27\n",
      "Got28\n",
      "Got29\n",
      "Got30\n",
      "Got31\n",
      "Got32\n",
      "Got33\n",
      "Got34\n",
      "Got35\n",
      "Got36\n",
      "Got37\n",
      "Got38\n",
      "Got39\n",
      "Got40\n",
      "Got41\n",
      "Got42\n",
      "Got43\n",
      "Got44\n",
      "Got45\n",
      "Got46\n",
      "Got47\n",
      "Got48\n",
      "Got49\n",
      "Got50\n",
      "Got51\n",
      "Got52\n",
      "Got53\n",
      "Got54\n",
      "Got55\n",
      "Got56\n",
      "Got57\n",
      "Got58\n",
      "Got59\n",
      "Got60\n",
      "Got61\n",
      "Got62\n",
      "Got63\n",
      "Got64\n",
      "Got65\n",
      "Got66\n"
     ]
    }
   ],
   "source": [
    "os.makedirs(\"Datasets{0}{1}{0}\".format(path_sep,query))\n",
    "print(\"Path Created\")\n",
    "n = 0\n",
    "for i in dates:\n",
    "    (d1, d2) = i\n",
    "    d1 = d1.isoformat()\n",
    "    d2 = d2.isoformat()\n",
    "    url = Call_url.format(base_url, key, query, data_format, d1, d2, time_interval)\n",
    "    data = requests.get(url) #requests.get() -> is used for connection b/w server and client\n",
    "    # here server is the service provider\n",
    "    # and client is my program\n",
    "    if data.status_code == 200:\n",
    "        n += 1\n",
    "        print(\"Got\"+str(n))\n",
    "        with open(filename+\"_RAW.csv\", \"ab\") as file:\n",
    "            file.write(data.content)"
   ]
  },
  {
   "cell_type": "code",
   "execution_count": 18,
   "metadata": {},
   "outputs": [
    {
     "name": "stdout",
     "output_type": "stream",
     "text": [
      "Done\n"
     ]
    }
   ],
   "source": [
    "day_index = [\"date\",\"maxtempC\",\"maxtempF\",\"mintempC\",\"mintempF\",\"sunrise\",\"sunset\",\"moonrise\",\n",
    "             \"moonset\",\"moon_phase\",\"moon_illumination\"\n",
    "            ]\n",
    "hour_index = [\"date\",\"time\",\"tempC\",\"tempF\",\"windspeedMiles\",\"windspeedKmph\",\"winddirdegree\",\n",
    "              \"winddir16point\",\"weatherCode\",\"weatherIconUrl\",\"weatherDesc\",\"precipMM\",\n",
    "              \"precipInches\",\"humidity\",\"visibilityKm\",\"visibilityMiles\",\"pressureMB\",\n",
    "              \"pressureInches\",\"cloudcover\",\"HeatIndexC\",\"HeatIndexF\",\"DewPointC\",\"DewPointF\",\n",
    "              \"WindChillC\",\"WindChillF\",\"WindGustMiles\",\"WindGustKmph\",\"FeelsLikeC\",\"FeelsLikeF\"\n",
    "             ]\n",
    "\n",
    "day = \"\"\n",
    "hour = \"\"\n",
    "\n",
    "for i in day_index:\n",
    "    day += i\n",
    "    day += ','\n",
    "day = day[:-1]\n",
    "day += '\\n'\n",
    "\n",
    "for i in hour_index:\n",
    "    hour += i\n",
    "    hour += ','\n",
    "hour = hour[:-1]\n",
    "hour += '\\n'\n",
    "\n",
    "with open(filename+\"_Daily.csv\", \"a\", encoding = 'utf8') as daily:\n",
    "    daily.write(day)\n",
    "with open(filename+\"_Hourly.csv\", \"a\", encoding = 'utf8') as hourly:\n",
    "    hourly.write(hour)\n",
    "    \n",
    "print(\"Done\")"
   ]
  },
  {
   "cell_type": "code",
   "execution_count": 19,
   "metadata": {},
   "outputs": [
    {
     "name": "stdout",
     "output_type": "stream",
     "text": [
      "Done\n"
     ]
    }
   ],
   "source": [
    "with open(filename+\"_RAW.csv\", \"r\", encoding = 'utf-8') as f1:\n",
    "    with open(filename+\".csv\", \"a\", encoding = 'utf-8') as f2:\n",
    "        for line in f1:\n",
    "            if line[0].isdigit():\n",
    "                f2.write(line)\n",
    "\n",
    "print(\"Done\")"
   ]
  },
  {
   "cell_type": "code",
   "execution_count": 20,
   "metadata": {},
   "outputs": [
    {
     "name": "stdout",
     "output_type": "stream",
     "text": [
      "Done\n"
     ]
    }
   ],
   "source": [
    "i = 0\n",
    "with open(filename+\".csv\", \"r\", encoding = 'utf8') as file:\n",
    "    with open(filename+\"_Daily.csv\", \"a\", encoding = 'utf8') as daily:\n",
    "        with open(filename+\"_Hourly.csv\", \"a\", encoding = 'utf8') as hourly:\n",
    "            for line in file:\n",
    "                if i == 0:\n",
    "                    daily.write(line)\n",
    "                    i += 1\n",
    "                else:\n",
    "                    if i == 24:\n",
    "                        i = 0\n",
    "                    else:\n",
    "                        i += 1\n",
    "                    hourly.write(line)\n",
    "\n",
    "print(\"Done\")"
   ]
  },
  {
   "cell_type": "code",
   "execution_count": null,
   "metadata": {},
   "outputs": [],
   "source": []
  }
 ],
 "metadata": {
  "kernelspec": {
   "display_name": "Python 3",
   "language": "python",
   "name": "python3"
  },
  "language_info": {
   "codemirror_mode": {
    "name": "ipython",
    "version": 3
   },
   "file_extension": ".py",
   "mimetype": "text/x-python",
   "name": "python",
   "nbconvert_exporter": "python",
   "pygments_lexer": "ipython3",
   "version": "3.7.3"
  }
 },
 "nbformat": 4,
 "nbformat_minor": 2
}
