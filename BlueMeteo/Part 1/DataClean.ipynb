{
 "cells": [
  {
   "cell_type": "code",
   "execution_count": 1,
   "metadata": {},
   "outputs": [],
   "source": [
    "import os"
   ]
  },
  {
   "cell_type": "code",
   "execution_count": 2,
   "metadata": {},
   "outputs": [],
   "source": [
    "import pandas as pd"
   ]
  },
  {
   "cell_type": "code",
   "execution_count": 3,
   "metadata": {},
   "outputs": [],
   "source": [
    "from datetime import datetime, date, time"
   ]
  },
  {
   "cell_type": "code",
   "execution_count": 4,
   "metadata": {},
   "outputs": [
    {
     "name": "stdout",
     "output_type": "stream",
     "text": [
      "Datasets\\kolkata\\Weather_Data_Daily.csv\n",
      "Datasets\\kolkata\\Weather_Data_Hourly.csv\n",
      "\n",
      "WD_kolkata_D.csv\n",
      "WD_kolkata_H.csv\n"
     ]
    }
   ],
   "source": [
    "location = \"kolkata\"\n",
    "path_sep = os.path.sep\n",
    "filename_temp = \"Datasets{1}{0}{1}Weather_Data{2}\"\n",
    "fileD = filename_temp.format(location, path_sep, \"_Daily.csv\")\n",
    "fileH = filename_temp.format(location, path_sep, \"_Hourly.csv\")\n",
    "\n",
    "filename_t2 = \"WD_{0}_{1}.csv\"\n",
    "filed = filename_t2.format(location, \"D\")\n",
    "fileh = filename_t2.format(location, \"H\")\n",
    "\n",
    "print(fileD)\n",
    "print(fileH)\n",
    "print()\n",
    "print(filed)\n",
    "print(fileh)"
   ]
  },
  {
   "cell_type": "code",
   "execution_count": 5,
   "metadata": {},
   "outputs": [],
   "source": [
    "df = pd.read_csv(fileD)\n",
    "del(df['maxtempF'])\n",
    "del(df['mintempF'])"
   ]
  },
  {
   "cell_type": "code",
   "execution_count": 6,
   "metadata": {},
   "outputs": [
    {
     "name": "stdout",
     "output_type": "stream",
     "text": [
      "Done\n"
     ]
    }
   ],
   "source": [
    "df.to_csv(filed)\n",
    "print(\"Done\")"
   ]
  },
  {
   "cell_type": "code",
   "execution_count": 7,
   "metadata": {},
   "outputs": [
    {
     "name": "stdout",
     "output_type": "stream",
     "text": [
      "<class 'pandas.core.frame.DataFrame'>\n",
      "RangeIndex: 2007 entries, 0 to 2006\n",
      "Data columns (total 9 columns):\n",
      "date                 2007 non-null object\n",
      "maxtempC             2007 non-null int64\n",
      "mintempC             2007 non-null int64\n",
      "sunrise              2007 non-null object\n",
      "sunset               2007 non-null object\n",
      "moonrise             2007 non-null object\n",
      "moonset              2007 non-null object\n",
      "moon_phase           2007 non-null object\n",
      "moon_illumination    2007 non-null int64\n",
      "dtypes: int64(3), object(6)\n",
      "memory usage: 141.2+ KB\n"
     ]
    }
   ],
   "source": [
    "df = pd.read_csv(filed)\n",
    "del(df['Unnamed: 0'])\n",
    "df.info()"
   ]
  },
  {
   "cell_type": "code",
   "execution_count": 8,
   "metadata": {},
   "outputs": [],
   "source": [
    "df.drop(df.loc[df['moonrise'] == 'No moonrise'].index, inplace=True)\n",
    "df.drop(df.loc[df['moonset'] == 'No moonset'].index, inplace=True)"
   ]
  },
  {
   "cell_type": "code",
   "execution_count": 9,
   "metadata": {
    "scrolled": true
   },
   "outputs": [
    {
     "name": "stdout",
     "output_type": "stream",
     "text": [
      "<class 'pandas.core.frame.DataFrame'>\n",
      "Int64Index: 1871 entries, 0 to 2006\n",
      "Data columns (total 9 columns):\n",
      "date                 1871 non-null object\n",
      "maxtempC             1871 non-null int64\n",
      "mintempC             1871 non-null int64\n",
      "sunrise              1871 non-null object\n",
      "sunset               1871 non-null object\n",
      "moonrise             1871 non-null object\n",
      "moonset              1871 non-null object\n",
      "moon_phase           1871 non-null object\n",
      "moon_illumination    1871 non-null int64\n",
      "dtypes: int64(3), object(6)\n",
      "memory usage: 146.2+ KB\n"
     ]
    }
   ],
   "source": [
    "df.info()"
   ]
  },
  {
   "cell_type": "code",
   "execution_count": 10,
   "metadata": {},
   "outputs": [],
   "source": [
    "def apply_dt(string, f):\n",
    "    return datetime.strptime(string, f).date()\n",
    "\n",
    "def apply_tm(string, f):\n",
    "    return datetime.strptime(string, f).time()"
   ]
  },
  {
   "cell_type": "code",
   "execution_count": 11,
   "metadata": {},
   "outputs": [
    {
     "name": "stdout",
     "output_type": "stream",
     "text": [
      "<class 'pandas.core.frame.DataFrame'>\n",
      "Int64Index: 1871 entries, 0 to 2006\n",
      "Data columns (total 9 columns):\n",
      "date                 1871 non-null object\n",
      "maxtempC             1871 non-null int64\n",
      "mintempC             1871 non-null int64\n",
      "sunrise              1871 non-null object\n",
      "sunset               1871 non-null object\n",
      "moonrise             1871 non-null object\n",
      "moonset              1871 non-null object\n",
      "moon_phase           1871 non-null object\n",
      "moon_illumination    1871 non-null int64\n",
      "dtypes: int64(3), object(6)\n",
      "memory usage: 146.2+ KB\n"
     ]
    }
   ],
   "source": [
    "df['date'] = df['date'].apply(apply_dt, f = '%Y-%m-%d')\n",
    "\n",
    "df['sunrise'] = df['sunrise'].apply(apply_tm, f = '%I:%M %p')\n",
    "df['sunset'] = df['sunset'].apply(apply_tm, f = '%I:%M %p')\n",
    "df['moonrise'] = df['moonrise'].apply(apply_tm, f = '%I:%M %p')\n",
    "df['moonset'] = df['moonset'].apply(apply_tm, f = '%I:%M %p')\n",
    "\n",
    "df.info()"
   ]
  },
  {
   "cell_type": "code",
   "execution_count": 12,
   "metadata": {},
   "outputs": [],
   "source": [
    "df.to_csv(filed)"
   ]
  },
  {
   "cell_type": "code",
   "execution_count": null,
   "metadata": {},
   "outputs": [],
   "source": []
  }
 ],
 "metadata": {
  "kernelspec": {
   "display_name": "Python 3",
   "language": "python",
   "name": "python3"
  },
  "language_info": {
   "codemirror_mode": {
    "name": "ipython",
    "version": 3
   },
   "file_extension": ".py",
   "mimetype": "text/x-python",
   "name": "python",
   "nbconvert_exporter": "python",
   "pygments_lexer": "ipython3",
   "version": "3.7.3"
  }
 },
 "nbformat": 4,
 "nbformat_minor": 2
}
